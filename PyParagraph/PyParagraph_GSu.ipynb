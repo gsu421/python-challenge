{
 "cells": [
  {
   "cell_type": "code",
   "execution_count": 13,
   "metadata": {
    "collapsed": true
   },
   "outputs": [],
   "source": [
    "import os\n",
    "import re"
   ]
  },
  {
   "cell_type": "code",
   "execution_count": 20,
   "metadata": {
    "scrolled": true
   },
   "outputs": [
    {
     "name": "stdout",
     "output_type": "stream",
     "text": [
      "Gene expression in mammals is regulated by noncoding elements that can affect physiology and disease, yet the functions and target genes of most noncoding elements remain unknown. We present a high-throughput approach that uses clustered regularly interspaced short palindromic repeats (CRISPR) interference (CRISPRi) to discover regulatory elements and identify their target genes. We assess >1 megabase of sequence in the vicinity of two essential transcription factors, MYC and GATA1, and identify nine distal enhancers that control gene expression and cellular proliferation. Quantitative features of chromatin state and chromosome conformation distinguish the seven enhancers that regulate MYC from other elements that do not, suggesting a strategy for predicting enhancer–promoter connectivity. This CRISPRi-based approach can be applied to dissect transcriptional networks and interpret the contributions of noncoding genetic variation to human disease.\n"
     ]
    }
   ],
   "source": [
    "file_to_load = os.path.join('raw_data/paragraph_1.txt')\n",
    "file_to_write = os.path.join('analysis/paragraph_analysis.txt')\n",
    "\n",
    "paragraph = ''\n",
    "with open (file_to_load, newline='') as txt_data:\n",
    "    paragraph = txt_data.read()\n",
    "print(paragraph)\n"
   ]
  },
  {
   "cell_type": "code",
   "execution_count": 15,
   "metadata": {
    "collapsed": true
   },
   "outputs": [],
   "source": [
    "# word count\n",
    "word_split = paragraph.split(' ')\n",
    "word_count = len(word_split)\n",
    "\n",
    "# letter count\n",
    "letter_count = []\n",
    "for words in word_split:\n",
    "    letter_count.append(len(words))\n",
    "\n",
    "# Letter Count per Word\n",
    "letter_count_per_word = sum(letter_count) / word_count\n"
   ]
  },
  {
   "cell_type": "code",
   "execution_count": 17,
   "metadata": {},
   "outputs": [],
   "source": [
    "# Sentence Count\n",
    "sentence_split = re.split('(?<=[!.?]) +',paragraph) #this is tricky\n",
    "sentence_count = len(sentence_split)\n",
    "# print(sentence_split)\n",
    "word_count_per_sentence = []\n",
    "\n",
    "for words in sentence_split:\n",
    "    word_count_per_sentence.append(len(words.split(' ')))\n",
    "# print(word_count_per_sentence)\n",
    "# Word Count per Sentence\n",
    "avg_sentence_length = sum(word_count_per_sentence) / sentence_count"
   ]
  },
  {
   "cell_type": "code",
   "execution_count": 18,
   "metadata": {},
   "outputs": [
    {
     "name": "stdout",
     "output_type": "stream",
     "text": [
      "Approximate word count: 130\n",
      "Approximate sentence count: 5\n",
      "Approximate letter count (per word): 6\n",
      "Average sentence length (in words): 26\n"
     ]
    }
   ],
   "source": [
    "print('Approximate word count: %s' %word_count)\n",
    "print('Approximate sentence count: %s' %sentence_count)\n",
    "print('Approximate letter count (per word): %s' %int(letter_count_per_word))\n",
    "print('Average sentence length (in words): %s' %int(avg_sentence_length))"
   ]
  },
  {
   "cell_type": "code",
   "execution_count": 19,
   "metadata": {},
   "outputs": [],
   "source": [
    "# Generate Analysis Outputs\n",
    "output = (\n",
    "    f\"\\nParagraph Analysis\\n\"\n",
    "    f\"-----------------\\n\"\n",
    "    f\"Approximate Word Count: {word_count}\\n\"\n",
    "    f\"Approximate Sentence Count: {sentence_count}\\n\"\n",
    "    f\"Average Letter Count: {letter_count_per_word}\\n\"\n",
    "    f\"Average Sentence Length: {avg_sentence_length}\\n\")\n",
    "\n",
    "with open(file_to_write, 'a') as txt_output:\n",
    "    txt_output.write(output)"
   ]
  }
 ],
 "metadata": {
  "kernelspec": {
   "display_name": "Python 3",
   "language": "python",
   "name": "python3"
  },
  "language_info": {
   "codemirror_mode": {
    "name": "ipython",
    "version": 3
   },
   "file_extension": ".py",
   "mimetype": "text/x-python",
   "name": "python",
   "nbconvert_exporter": "python",
   "pygments_lexer": "ipython3",
   "version": "3.6.3"
  }
 },
 "nbformat": 4,
 "nbformat_minor": 2
}
